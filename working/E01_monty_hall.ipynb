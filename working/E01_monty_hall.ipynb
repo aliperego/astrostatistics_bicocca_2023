{
 "cells": [
  {
   "cell_type": "markdown",
   "id": "4f219a9b",
   "metadata": {},
   "source": [
    "## Monty Hall Problem"
   ]
  },
  {
   "cell_type": "code",
   "execution_count": 1,
   "id": "513634e5",
   "metadata": {},
   "outputs": [],
   "source": [
    "import numpy as np\n",
    "from numpy import random"
   ]
  },
  {
   "cell_type": "code",
   "execution_count": 2,
   "id": "83fea207",
   "metadata": {},
   "outputs": [],
   "source": [
    "def monty_hall(number_doors):\n",
    "    \n",
    "    N = 100000\n",
    "    con = 0 #conservative\n",
    "    sw = 0 #switcher\n",
    "    nc = 0 #newcomer\n",
    "\n",
    "    for i in range(N):\n",
    "\n",
    "        doors = np.concatenate([[1], np.zeros(number_doors-1)]) # 0 = goat, 1 = car\n",
    "        random.shuffle(doors)\n",
    "        #print(doors)\n",
    "        c = random.choice(np.arange(number_doors))\n",
    "        #print(c)\n",
    "        doors_opened=0\n",
    "        for j in range(number_doors):                       \n",
    "            if ((doors[j]==0) and (j!=c) and (doors_opened < number_doors-2)):\n",
    "                doors[j]=-1 # -1 = door opened\n",
    "                doors_opened = doors_opened + 1\n",
    "        #print(doors) \n",
    "\n",
    "        idx_doors_closed = np.where(doors>-1)[0]\n",
    "        #print(idx_doors_closed)\n",
    "\n",
    "        if (idx_doors_closed[0]!=c):\n",
    "            s = idx_doors_closed[0]\n",
    "        else :\n",
    "            s = idx_doors_closed[1]\n",
    "\n",
    "        n = random.choice(idx_doors_closed)\n",
    "        #print (c, s, n)\n",
    "\n",
    "        if doors[c] == 1: con = con + 1\n",
    "        if doors[s] == 1: sw = sw + 1\n",
    "        if doors[n] == 1: nc = nc + 1\n",
    "\n",
    "        #print (con,sw,nc)\n",
    "        #print(\"\\n\\n\")\n",
    "\n",
    "    print(\"Winning percentage of the three players:\")\n",
    "    print(\"Conservative: \", con/N)\n",
    "    print(\"Switcher: \", sw/N)\n",
    "    print(\"New comer: \", nc/N)\n",
    "    print(\"\\n\")\n",
    "    "
   ]
  },
  {
   "cell_type": "code",
   "execution_count": 3,
   "id": "993f3381",
   "metadata": {},
   "outputs": [
    {
     "name": "stdout",
     "output_type": "stream",
     "text": [
      "Number of doors:  3 \n",
      "\n",
      "Winning percentage of the three players:\n",
      "Conservative:  0.33395\n",
      "Switcher:  0.66605\n",
      "New comer:  0.50093\n",
      "\n",
      "\n",
      "Number of doors:  100 \n",
      "\n",
      "Winning percentage of the three players:\n",
      "Conservative:  0.01039\n",
      "Switcher:  0.98961\n",
      "New comer:  0.49904\n",
      "\n",
      "\n"
     ]
    }
   ],
   "source": [
    "print('Number of doors: ',3,\"\\n\")\n",
    "monty_hall(3)\n",
    "print('Number of doors: ',100,\"\\n\")\n",
    "monty_hall(100)"
   ]
  },
  {
   "cell_type": "markdown",
   "id": "9eb4b9d8",
   "metadata": {},
   "source": [
    "### Winning probability:\n",
    "\n",
    "If the doors are 3:\n",
    "- p(conservative) = 1/3\n",
    "- p(switcher) = 2/3\n",
    "- p(newcomer) = 1/2\n",
    "\n",
    "If the doors are 100:\n",
    "- p(conservative) = 1/100\n",
    "- p(switcher) = 99/100\n",
    "- p(newcomer) = 1/2"
   ]
  },
  {
   "cell_type": "code",
   "execution_count": null,
   "id": "57ae8ccf",
   "metadata": {},
   "outputs": [],
   "source": []
  }
 ],
 "metadata": {
  "kernelspec": {
   "display_name": "Python 3 (ipykernel)",
   "language": "python",
   "name": "python3"
  },
  "language_info": {
   "codemirror_mode": {
    "name": "ipython",
    "version": 3
   },
   "file_extension": ".py",
   "mimetype": "text/x-python",
   "name": "python",
   "nbconvert_exporter": "python",
   "pygments_lexer": "ipython3",
   "version": "3.10.12"
  }
 },
 "nbformat": 4,
 "nbformat_minor": 5
}
